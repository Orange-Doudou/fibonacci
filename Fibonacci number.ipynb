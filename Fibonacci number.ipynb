{
 "cells": [
  {
   "cell_type": "code",
   "execution_count": 54,
   "metadata": {},
   "outputs": [
    {
     "name": "stdout",
     "output_type": "stream",
     "text": [
      "Please enter the length of Fibonacci number4\n",
      "[1, 1, 2, 3]\n"
     ]
    }
   ],
   "source": [
    "#a simple way of building Fibonacci sequence \n",
    "n = int(input('Please enter the length of Fibonacci number'))\n",
    "f = [0]*n\n",
    "f[0] = 1\n",
    "f[1] = 1\n",
    "for i in range(2, len(f)):\n",
    "    f[i] = f[i-1]+f[i-2]\n",
    "\n",
    "print (f)\n"
   ]
  },
  {
   "cell_type": "code",
   "execution_count": 55,
   "metadata": {},
   "outputs": [
    {
     "name": "stdout",
     "output_type": "stream",
     "text": [
      "Please input the number of Fibonacci number: 4\n",
      "[1, 1, 2, 3]\n"
     ]
    }
   ],
   "source": [
    "#using recursive function to build Fibonacci sequence\n",
    "\n",
    "def Fibonacci(n):\n",
    "    if n == 0:\n",
    "        return 1\n",
    "    elif n == 1:\n",
    "        return 1\n",
    "    else:\n",
    "        return Fibonacci(n-1)+Fibonacci(n-2)\n",
    "\n",
    "n = int(input('Please input the number of Fibonacci number: '))\n",
    "f = []\n",
    "for i in range(n):\n",
    "    f.append(Fibonacci(i))\n",
    "print (f)\n",
    "\n",
    "        "
   ]
  }
 ],
 "metadata": {
  "kernelspec": {
   "display_name": "Python 3",
   "language": "python",
   "name": "python3"
  }
 },
 "nbformat": 4,
 "nbformat_minor": 2
}
